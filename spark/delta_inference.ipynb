{
 "cells": [
  {
   "cell_type": "code",
   "execution_count": 1,
   "metadata": {},
   "outputs": [
    {
     "data": {
      "application/vnd.jupyter.widget-view+json": {
       "model_id": "5a7d902596a847e4a6606b30372aea9d",
       "version_major": 2,
       "version_minor": 0
      },
      "text/plain": [
       "VBox()"
      ]
     },
     "metadata": {},
     "output_type": "display_data"
    },
    {
     "name": "stdout",
     "output_type": "stream",
     "text": [
      "Starting Spark application\n"
     ]
    },
    {
     "data": {
      "text/html": [
       "<table>\n",
       "<tr><th>ID</th><th>YARN Application ID</th><th>Kind</th><th>State</th><th>Spark UI</th><th>Driver log</th><th>Current session?</th></tr><tr><td>14</td><td>application_1590608562184_0015</td><td>pyspark</td><td>idle</td><td><a target=\"_blank\" href=\"http://ip-172-31-17-25.us-west-2.compute.internal:20888/proxy/application_1590608562184_0015/\">Link</a></td><td><a target=\"_blank\" href=\"http://ip-172-31-31-15.us-west-2.compute.internal:8042/node/containerlogs/container_1590608562184_0015_01_000001/livy\">Link</a></td><td>✔</td></tr></table>"
      ],
      "text/plain": [
       "<IPython.core.display.HTML object>"
      ]
     },
     "metadata": {},
     "output_type": "display_data"
    },
    {
     "data": {
      "application/vnd.jupyter.widget-view+json": {
       "model_id": "",
       "version_major": 2,
       "version_minor": 0
      },
      "text/plain": [
       "FloatProgress(value=0.0, bar_style='info', description='Progress:', layout=Layout(height='25px', width='50%'),…"
      ]
     },
     "metadata": {},
     "output_type": "display_data"
    },
    {
     "name": "stdout",
     "output_type": "stream",
     "text": [
      "SparkSession available as 'spark'.\n"
     ]
    },
    {
     "data": {
      "application/vnd.jupyter.widget-view+json": {
       "model_id": "",
       "version_major": 2,
       "version_minor": 0
      },
      "text/plain": [
       "FloatProgress(value=0.0, bar_style='info', description='Progress:', layout=Layout(height='25px', width='50%'),…"
      ]
     },
     "metadata": {},
     "output_type": "display_data"
    }
   ],
   "source": [
    "import pyspark\n",
    "spark = pyspark.sql.SparkSession.builder.appName(\"MyApp\") \\\n",
    "    .config(\"spark.jars.packages\", \"io.delta:delta-core_2.11:0.6.0\") \\\n",
    "    .getOrCreate()\n",
    "sc = spark.sparkContext\n",
    "sc.addPyFile(\"/usr/lib/spark/jars/delta-core_2.11-0.6.0.jar\")\n",
    "from delta.tables import *\n",
    "# Enable Arrow support.\n",
    "spark.conf.set(\"spark.sql.execution.arrow.enabled\", \"true\")\n",
    "spark.conf.set(\"spark.sql.execution.arrow.maxRecordsPerBatch\", \"128\")\n",
    "sc = spark.sparkContext"
   ]
  },
  {
   "cell_type": "code",
   "execution_count": 2,
   "metadata": {},
   "outputs": [
    {
     "data": {
      "application/vnd.jupyter.widget-view+json": {
       "model_id": "ccf33ddebd664d558631a4321bfc6fdd",
       "version_major": 2,
       "version_minor": 0
      },
      "text/plain": [
       "VBox()"
      ]
     },
     "metadata": {},
     "output_type": "display_data"
    },
    {
     "data": {
      "application/vnd.jupyter.widget-view+json": {
       "model_id": "",
       "version_major": 2,
       "version_minor": 0
      },
      "text/plain": [
       "FloatProgress(value=0.0, bar_style='info', description='Progress:', layout=Layout(height='25px', width='50%'),…"
      ]
     },
     "metadata": {},
     "output_type": "display_data"
    }
   ],
   "source": [
    "import os\n",
    "import shutil\n",
    "import tarfile\n",
    "import time\n",
    "import zipfile\n",
    "\n",
    "try:\n",
    "    from urllib.request import urlretrieve\n",
    "except ImportError:\n",
    "    from urllib import urlretrieve\n",
    "\n",
    "import pandas as pd\n",
    "\n",
    "import torch\n",
    "from torch.utils.data import Dataset\n",
    "from torchvision import datasets, models, transforms\n",
    "from torchvision.datasets.folder import default_loader  # private API\n",
    "\n",
    "from pyspark.sql.functions import col, pandas_udf, PandasUDFType, monotonically_increasing_id\n",
    "from pyspark.sql.types import ArrayType, FloatType"
   ]
  },
  {
   "cell_type": "code",
   "execution_count": 3,
   "metadata": {
    "collapsed": true,
    "jupyter": {
     "outputs_hidden": true
    }
   },
   "outputs": [
    {
     "data": {
      "application/vnd.jupyter.widget-view+json": {
       "model_id": "a47a80c014da4989b6427384ec1f6ae0",
       "version_major": 2,
       "version_minor": 0
      },
      "text/plain": [
       "VBox()"
      ]
     },
     "metadata": {},
     "output_type": "display_data"
    },
    {
     "data": {
      "application/vnd.jupyter.widget-view+json": {
       "model_id": "",
       "version_major": 2,
       "version_minor": 0
      },
      "text/plain": [
       "FloatProgress(value=0.0, bar_style='info', description='Progress:', layout=Layout(height='25px', width='50%'),…"
      ]
     },
     "metadata": {},
     "output_type": "display_data"
    },
    {
     "name": "stdout",
     "output_type": "stream",
     "text": [
      "/usr/local/lib64/python3.7/site-packages/torch/serialization.py:657: SourceChangeWarning: source code of class 'torchvision.models.detection.faster_rcnn.FasterRCNN' has changed. you can retrieve the original source code by accessing the object's source attribute or set `torch.nn.Module.dump_patches = True` and use the patch tool to revert the changes.\n",
      "  warnings.warn(msg, SourceChangeWarning)\n",
      "/usr/local/lib64/python3.7/site-packages/torch/serialization.py:657: SourceChangeWarning: source code of class 'torchvision.models.detection.transform.GeneralizedRCNNTransform' has changed. you can retrieve the original source code by accessing the object's source attribute or set `torch.nn.Module.dump_patches = True` and use the patch tool to revert the changes.\n",
      "  warnings.warn(msg, SourceChangeWarning)\n",
      "/usr/local/lib64/python3.7/site-packages/torch/serialization.py:657: SourceChangeWarning: source code of class 'torch.nn.modules.conv.Conv2d' has changed. you can retrieve the original source code by accessing the object's source attribute or set `torch.nn.Module.dump_patches = True` and use the patch tool to revert the changes.\n",
      "  warnings.warn(msg, SourceChangeWarning)\n",
      "/usr/local/lib64/python3.7/site-packages/torch/serialization.py:657: SourceChangeWarning: source code of class 'torchvision.ops.misc.FrozenBatchNorm2d' has changed. you can retrieve the original source code by accessing the object's source attribute or set `torch.nn.Module.dump_patches = True` and use the patch tool to revert the changes.\n",
      "  warnings.warn(msg, SourceChangeWarning)\n",
      "/usr/local/lib64/python3.7/site-packages/torch/serialization.py:657: SourceChangeWarning: source code of class 'torch.nn.modules.activation.ReLU' has changed. you can retrieve the original source code by accessing the object's source attribute or set `torch.nn.Module.dump_patches = True` and use the patch tool to revert the changes.\n",
      "  warnings.warn(msg, SourceChangeWarning)\n",
      "/usr/local/lib64/python3.7/site-packages/torch/serialization.py:657: SourceChangeWarning: source code of class 'torchvision.models.resnet.Bottleneck' has changed. you can retrieve the original source code by accessing the object's source attribute or set `torch.nn.Module.dump_patches = True` and use the patch tool to revert the changes.\n",
      "  warnings.warn(msg, SourceChangeWarning)\n",
      "/usr/local/lib64/python3.7/site-packages/torch/serialization.py:657: SourceChangeWarning: source code of class 'torch.nn.modules.container.ModuleList' has changed. you can retrieve the original source code by accessing the object's source attribute or set `torch.nn.Module.dump_patches = True` and use the patch tool to revert the changes.\n",
      "  warnings.warn(msg, SourceChangeWarning)\n",
      "/usr/local/lib64/python3.7/site-packages/torch/serialization.py:657: SourceChangeWarning: source code of class 'torchvision.models.detection.rpn.RegionProposalNetwork' has changed. you can retrieve the original source code by accessing the object's source attribute or set `torch.nn.Module.dump_patches = True` and use the patch tool to revert the changes.\n",
      "  warnings.warn(msg, SourceChangeWarning)\n",
      "/usr/local/lib64/python3.7/site-packages/torch/serialization.py:657: SourceChangeWarning: source code of class 'torchvision.models.detection.rpn.AnchorGenerator' has changed. you can retrieve the original source code by accessing the object's source attribute or set `torch.nn.Module.dump_patches = True` and use the patch tool to revert the changes.\n",
      "  warnings.warn(msg, SourceChangeWarning)\n",
      "/usr/local/lib64/python3.7/site-packages/torch/serialization.py:657: SourceChangeWarning: source code of class 'torchvision.models.detection.roi_heads.RoIHeads' has changed. you can retrieve the original source code by accessing the object's source attribute or set `torch.nn.Module.dump_patches = True` and use the patch tool to revert the changes.\n",
      "  warnings.warn(msg, SourceChangeWarning)\n",
      "/usr/local/lib64/python3.7/site-packages/torch/serialization.py:657: SourceChangeWarning: source code of class 'torch.nn.modules.linear.Linear' has changed. you can retrieve the original source code by accessing the object's source attribute or set `torch.nn.Module.dump_patches = True` and use the patch tool to revert the changes.\n",
      "  warnings.warn(msg, SourceChangeWarning)\n",
      "/usr/local/lib64/python3.7/site-packages/torch/storage.py:34: FutureWarning: pickle support for Storage will be removed in 1.5. Use `torch.save` instead\n",
      "  warnings.warn(\"pickle support for Storage will be removed in 1.5. Use `torch.save` instead\", FutureWarning)"
     ]
    }
   ],
   "source": [
    "from determined.experimental import Determined\n",
    "from torchvision.models.detection import fasterrcnn_resnet50_fpn\n",
    "from torchvision.models.detection.faster_rcnn import FastRCNNPredictor\n",
    "\n",
    "checkpoint = Determined(master=\"http://44.232.66.32:8080/\").get_experiment(18).top_checkpoint()\n",
    "model = checkpoint.load(path=\"/home/.config/ckpt\", map_location=torch.device('cpu'))\n",
    "\n",
    "b_state_dict = sc.broadcast(model.state_dict())\n"
   ]
  },
  {
   "cell_type": "code",
   "execution_count": 4,
   "metadata": {},
   "outputs": [
    {
     "data": {
      "application/vnd.jupyter.widget-view+json": {
       "model_id": "4932bbd4c1804227a59ebc0ef2b070fc",
       "version_major": 2,
       "version_minor": 0
      },
      "text/plain": [
       "VBox()"
      ]
     },
     "metadata": {},
     "output_type": "display_data"
    },
    {
     "data": {
      "application/vnd.jupyter.widget-view+json": {
       "model_id": "",
       "version_major": 2,
       "version_minor": 0
      },
      "text/plain": [
       "FloatProgress(value=0.0, bar_style='info', description='Progress:', layout=Layout(height='25px', width='50%'),…"
      ]
     },
     "metadata": {},
     "output_type": "display_data"
    }
   ],
   "source": [
    "def get_model_for_eval():\n",
    "    \"\"\"Gets the broadcasted model.\"\"\"\n",
    "    model = fasterrcnn_resnet50_fpn(pretrained=False, pretrained_backbone=False)\n",
    "    in_features = model.roi_heads.box_predictor.cls_score.in_features\n",
    "    model.roi_heads.box_predictor = FastRCNNPredictor(in_features, 20)\n",
    "    model.load_state_dict(b_state_dict.value)\n",
    "    model.eval()\n",
    "    return model"
   ]
  },
  {
   "cell_type": "code",
   "execution_count": 5,
   "metadata": {},
   "outputs": [
    {
     "data": {
      "application/vnd.jupyter.widget-view+json": {
       "model_id": "909ab0b895ed49dd95a1482bde78115c",
       "version_major": 2,
       "version_minor": 0
      },
      "text/plain": [
       "VBox()"
      ]
     },
     "metadata": {},
     "output_type": "display_data"
    },
    {
     "data": {
      "application/vnd.jupyter.widget-view+json": {
       "model_id": "",
       "version_major": 2,
       "version_minor": 0
      },
      "text/plain": [
       "FloatProgress(value=0.0, bar_style='info', description='Progress:', layout=Layout(height='25px', width='50%'),…"
      ]
     },
     "metadata": {},
     "output_type": "display_data"
    },
    {
     "name": "stdout",
     "output_type": "stream",
     "text": [
      "+--------------------+----------+\n",
      "|               image|        id|\n",
      "+--------------------+----------+\n",
      "|[FF D8 FF E0 00 1...|8589934592|\n",
      "|[FF D8 FF E0 00 1...|8589934593|\n",
      "|[FF D8 FF E0 00 1...|8589934594|\n",
      "|[FF D8 FF E0 00 1...|8589934595|\n",
      "|[FF D8 FF E0 00 1...|8589934596|\n",
      "+--------------------+----------+\n",
      "only showing top 5 rows\n",
      "\n",
      "9244"
     ]
    }
   ],
   "source": [
    "images_df = spark.read.format(\"delta\").option(\"versionAsOf\", 0).load(\"s3://david-voc-delta/val/\")\n",
    "\n",
    "images_df = images_df.select('image')\n",
    "images_df = images_df.withColumn(\"id\", monotonically_increasing_id())\n",
    "images_df.show(5)\n",
    "images_df.count()"
   ]
  },
  {
   "cell_type": "code",
   "execution_count": 6,
   "metadata": {},
   "outputs": [
    {
     "data": {
      "application/vnd.jupyter.widget-view+json": {
       "model_id": "d0f3de730dc24051893bc2e8b974eaa4",
       "version_major": 2,
       "version_minor": 0
      },
      "text/plain": [
       "VBox()"
      ]
     },
     "metadata": {},
     "output_type": "display_data"
    },
    {
     "data": {
      "application/vnd.jupyter.widget-view+json": {
       "model_id": "",
       "version_major": 2,
       "version_minor": 0
      },
      "text/plain": [
       "FloatProgress(value=0.0, bar_style='info', description='Progress:', layout=Layout(height='25px', width='50%'),…"
      ]
     },
     "metadata": {},
     "output_type": "display_data"
    }
   ],
   "source": [
    "import io\n",
    "from PIL import Image\n",
    "from torchvision.transforms import Compose, ToTensor\n",
    "\n",
    "class VOCDataset(Dataset):\n",
    "  def __init__(self, images):\n",
    "    self.raw_images = images\n",
    "    \n",
    "    transforms = []\n",
    "    transforms.append(ToTensor())\n",
    "    self.transform = Compose(transforms)\n",
    "    \n",
    "  def __len__(self):\n",
    "    return len(self.raw_images)\n",
    "\n",
    "  def __getitem__(self, index):\n",
    "    raw_image = self.raw_images[index]\n",
    "    image = Image.open(io.BytesIO(raw_image)).convert('RGB')\n",
    "    image = self.transform(image)\n",
    "    return image"
   ]
  },
  {
   "cell_type": "code",
   "execution_count": 7,
   "metadata": {},
   "outputs": [
    {
     "data": {
      "application/vnd.jupyter.widget-view+json": {
       "model_id": "366c0ba7f82b4a5494bf0bebae409d9b",
       "version_major": 2,
       "version_minor": 0
      },
      "text/plain": [
       "VBox()"
      ]
     },
     "metadata": {},
     "output_type": "display_data"
    },
    {
     "data": {
      "application/vnd.jupyter.widget-view+json": {
       "model_id": "",
       "version_major": 2,
       "version_minor": 0
      },
      "text/plain": [
       "FloatProgress(value=0.0, bar_style='info', description='Progress:', layout=Layout(height='25px', width='50%'),…"
      ]
     },
     "metadata": {},
     "output_type": "display_data"
    }
   ],
   "source": [
    "import torch\n",
    "from pyspark.sql.types import StructType, StructField, FloatType, ArrayType, IntegerType, StringType\n",
    "import numpy as np\n",
    "import os\n",
    "\n",
    "def collate_fn(batch):\n",
    "    return list(batch)\n",
    "\n",
    "def predict_batch(raw_images):\n",
    "    os.environ['LRU_CACHE_CAPACITY'] = '1'\n",
    "    ds = VOCDataset(list(raw_images))\n",
    "    loader = torch.utils.data.DataLoader(ds, batch_size=4, num_workers=8, shuffle=False, collate_fn=collate_fn)\n",
    "    model = get_model_for_eval()\n",
    "    all_predictions = []\n",
    "    with torch.no_grad():\n",
    "        for images in loader:\n",
    "            predictions = model(images)\n",
    "            for prediction in predictions:\n",
    "                bs = prediction['boxes'].cpu().numpy().flatten().tolist()\n",
    "                ls = prediction['labels'].cpu().numpy().astype(np.float32).tolist()\n",
    "                ss = prediction['scores'].cpu().numpy().tolist()\n",
    "                all_predictions.append([bs, ls, ss])\n",
    "#     return pd.Series([len(ds)] * len(ds))\n",
    "    return pd.Series(all_predictions)"
   ]
  },
  {
   "cell_type": "code",
   "execution_count": 8,
   "metadata": {},
   "outputs": [
    {
     "data": {
      "application/vnd.jupyter.widget-view+json": {
       "model_id": "cd7de67d34dd47da9d9baacb28c18fd8",
       "version_major": 2,
       "version_minor": 0
      },
      "text/plain": [
       "VBox()"
      ]
     },
     "metadata": {},
     "output_type": "display_data"
    },
    {
     "data": {
      "application/vnd.jupyter.widget-view+json": {
       "model_id": "",
       "version_major": 2,
       "version_minor": 0
      },
      "text/plain": [
       "FloatProgress(value=0.0, bar_style='info', description='Progress:', layout=Layout(height='25px', width='50%'),…"
      ]
     },
     "metadata": {},
     "output_type": "display_data"
    }
   ],
   "source": [
    "predict_udf = pandas_udf(ArrayType(ArrayType(FloatType())), PandasUDFType.SCALAR)(predict_batch)\n",
    "# predict_udf = pandas_udf(IntegerType(), PandasUDFType.SCALAR)(predict_batch)\n",
    "\n"
   ]
  },
  {
   "cell_type": "code",
   "execution_count": 9,
   "metadata": {},
   "outputs": [
    {
     "data": {
      "application/vnd.jupyter.widget-view+json": {
       "model_id": "745a710631b74e00805719ce78dee2aa",
       "version_major": 2,
       "version_minor": 0
      },
      "text/plain": [
       "VBox()"
      ]
     },
     "metadata": {},
     "output_type": "display_data"
    },
    {
     "data": {
      "application/vnd.jupyter.widget-view+json": {
       "model_id": "",
       "version_major": 2,
       "version_minor": 0
      },
      "text/plain": [
       "FloatProgress(value=0.0, bar_style='info', description='Progress:', layout=Layout(height='25px', width='50%'),…"
      ]
     },
     "metadata": {},
     "output_type": "display_data"
    }
   ],
   "source": [
    "input_df = images_df.repartition(64)\n",
    "predictions_df = input_df.select(col('id'), predict_udf(col('image')).alias(\"prediction\"))"
   ]
  },
  {
   "cell_type": "code",
   "execution_count": 10,
   "metadata": {},
   "outputs": [
    {
     "data": {
      "application/vnd.jupyter.widget-view+json": {
       "model_id": "92df0833230746a8a4faa24caf76e029",
       "version_major": 2,
       "version_minor": 0
      },
      "text/plain": [
       "VBox()"
      ]
     },
     "metadata": {},
     "output_type": "display_data"
    },
    {
     "data": {
      "application/vnd.jupyter.widget-view+json": {
       "model_id": "",
       "version_major": 2,
       "version_minor": 0
      },
      "text/plain": [
       "FloatProgress(value=0.0, bar_style='info', description='Progress:', layout=Layout(height='25px', width='50%'),…"
      ]
     },
     "metadata": {},
     "output_type": "display_data"
    }
   ],
   "source": [
    "(\n",
    "  predictions_df\n",
    "  .write\n",
    "  .format(\"delta\")\n",
    "  .mode(\"overwrite\")\n",
    "  .option(\"compression\", \"gzip\")\n",
    "  .save(\"s3://david-voc-predictions/preds\")\n",
    ")"
   ]
  },
  {
   "cell_type": "code",
   "execution_count": 11,
   "metadata": {},
   "outputs": [
    {
     "data": {
      "application/vnd.jupyter.widget-view+json": {
       "model_id": "a381219c3ac24d47a7d7efb6498daac5",
       "version_major": 2,
       "version_minor": 0
      },
      "text/plain": [
       "VBox()"
      ]
     },
     "metadata": {},
     "output_type": "display_data"
    },
    {
     "data": {
      "application/vnd.jupyter.widget-view+json": {
       "model_id": "",
       "version_major": 2,
       "version_minor": 0
      },
      "text/plain": [
       "FloatProgress(value=0.0, bar_style='info', description='Progress:', layout=Layout(height='25px', width='50%'),…"
      ]
     },
     "metadata": {},
     "output_type": "display_data"
    },
    {
     "name": "stdout",
     "output_type": "stream",
     "text": [
      "+------------+--------------------+\n",
      "|          id|          prediction|\n",
      "+------------+--------------------+\n",
      "|  8589935229|[[12.843936, 18.8...|\n",
      "|  8589934646|[[0.95023984, 183...|\n",
      "|  8589935294|[[1.938038, 9.295...|\n",
      "|  8589935647|[[430.304, 128.06...|\n",
      "|  8589934656|[[136.34753, 12.2...|\n",
      "|  8589935676|[[52.576393, 104....|\n",
      "|  8589935000|[[180.81972, 106....|\n",
      "|  8589935649|[[0.0, 29.932024,...|\n",
      "|  8589935045|[[415.22015, 20.9...|\n",
      "|  8589935711|[[63.349686, 72.7...|\n",
      "|  8589935682|[[38.227417, 183....|\n",
      "|  8589935289|[[43.355602, 22.4...|\n",
      "|  8589935197|[[1.3848653, 0.0,...|\n",
      "|  8589935118|[[8.791582, 95.85...|\n",
      "|  8589934793|[[18.786577, 21.8...|\n",
      "|  8589935082|[[213.70203, 100....|\n",
      "|  8589935517|[[420.54333, 222....|\n",
      "|  8589935383|[[338.31122, 158....|\n",
      "|137438954297|[[119.47388, 332....|\n",
      "|137438953676|[[3.0561523, 78.6...|\n",
      "|137438954435|[[221.24753, 157....|\n",
      "|137438953979|[[62.66492, 152.8...|\n",
      "|137438954203|[[55.591507, 95.9...|\n",
      "|137438954237|[[12.8235, 293.44...|\n",
      "|137438954408|[[40.804195, 51.6...|\n",
      "|137438954069|[[279.41418, 51.1...|\n",
      "|137438954582|[[392.21695, 84.9...|\n",
      "|137438954483|[[234.18759, 52.1...|\n",
      "|137438954085|[[102.6098, 14.89...|\n",
      "|137438954124|[[256.6441, 270.0...|\n",
      "|137438954392|[[200.80684, 109....|\n",
      "|137438954101|[[199.10167, 119....|\n",
      "|137438953679|[[19.524916, 177....|\n",
      "|137438953634|[[32.80888, 122.6...|\n",
      "|137438954384|[[217.8757, 115.4...|\n",
      "|137438954350|[[86.876, 86.0932...|\n",
      "| 42949673098|[[192.26701, 160....|\n",
      "| 42949673310|[[282.64807, 172....|\n",
      "| 42949673871|[[263.63657, 6.01...|\n",
      "| 42949673239|[[36.754166, 93.0...|\n",
      "| 42949673614|[[212.93684, 41.0...|\n",
      "| 42949673693|[[0.0, 117.94932,...|\n",
      "| 42949673878|[[0.0, 42.125366,...|\n",
      "| 42949673217|[[248.49545, 11.0...|\n",
      "| 42949673849|[[93.78392, 115.3...|\n",
      "| 42949673912|[[240.89134, 69.7...|\n",
      "| 42949673445|[[16.439919, 102....|\n",
      "| 42949673608|[[167.36539, 224....|\n",
      "| 42949673212|[[170.86006, 108....|\n",
      "| 42949673597|[[102.69323, 51.0...|\n",
      "+------------+--------------------+\n",
      "only showing top 50 rows"
     ]
    }
   ],
   "source": [
    "path =\"s3://david-voc-predictions/preds\"\n",
    "df = spark.read.format(\"delta\").load(path)\n",
    "df.show(50)"
   ]
  },
  {
   "cell_type": "code",
   "execution_count": null,
   "metadata": {},
   "outputs": [],
   "source": []
  }
 ],
 "metadata": {
  "kernelspec": {
   "display_name": "PySpark",
   "language": "",
   "name": "pysparkkernel"
  },
  "language_info": {
   "codemirror_mode": {
    "name": "python",
    "version": 3
   },
   "mimetype": "text/x-python",
   "name": "pyspark",
   "pygments_lexer": "python3"
  }
 },
 "nbformat": 4,
 "nbformat_minor": 4
}
