{
 "cells": [
  {
   "cell_type": "code",
   "execution_count": 2,
   "metadata": {},
   "outputs": [
    {
     "data": {
      "application/vnd.jupyter.widget-view+json": {
       "model_id": "3e848591ab6e44b59b59971e52c9af4b",
       "version_major": 2,
       "version_minor": 0
      },
      "text/plain": [
       "VBox()"
      ]
     },
     "metadata": {},
     "output_type": "display_data"
    },
    {
     "data": {
      "application/vnd.jupyter.widget-view+json": {
       "model_id": "",
       "version_major": 2,
       "version_minor": 0
      },
      "text/plain": [
       "FloatProgress(value=0.0, bar_style='info', description='Progress:', layout=Layout(height='25px', width='50%'),…"
      ]
     },
     "metadata": {},
     "output_type": "display_data"
    }
   ],
   "source": [
    "import pyspark\n",
    "spark = pyspark.sql.SparkSession.builder.appName(\"MyApp\") \\\n",
    "    .config(\"spark.jars.packages\", \"io.delta:delta-core_2.11:0.6.0\") \\\n",
    "    .getOrCreate()\n",
    "sc = spark.sparkContext\n",
    "sc.addPyFile(\"/usr/lib/spark/jars/delta-core_2.11-0.6.0.jar\")\n",
    "from delta.tables import *\n"
   ]
  },
  {
   "cell_type": "code",
   "execution_count": 14,
   "metadata": {},
   "outputs": [
    {
     "data": {
      "application/vnd.jupyter.widget-view+json": {
       "model_id": "e1c3c0ff40cf491badac2637b5a69e48",
       "version_major": 2,
       "version_minor": 0
      },
      "text/plain": [
       "VBox()"
      ]
     },
     "metadata": {},
     "output_type": "display_data"
    },
    {
     "data": {
      "application/vnd.jupyter.widget-view+json": {
       "model_id": "",
       "version_major": 2,
       "version_minor": 0
      },
      "text/plain": [
       "FloatProgress(value=0.0, bar_style='info', description='Progress:', layout=Layout(height='25px', width='50%'),…"
      ]
     },
     "metadata": {},
     "output_type": "display_data"
    }
   ],
   "source": [
    "import boto3\n",
    "import os\n",
    "\n",
    "def load_voc_image_names(bucket_name, prefix):\n",
    "    s3 = boto3.resource('s3')\n",
    "    bucket = s3.Bucket(bucket_name)\n",
    "    files = []\n",
    "    for obj in bucket.objects.filter(Prefix=os.path.join(prefix, \"JPEGImages\")):\n",
    "        if obj.key.endswith('.jpg'):\n",
    "            files.append(obj.key)\n",
    "    return(files)\n",
    "    \n",
    "\n",
    "keys = load_voc_image_names('david-voc-data', 'v1')\n"
   ]
  },
  {
   "cell_type": "code",
   "execution_count": 15,
   "metadata": {},
   "outputs": [
    {
     "data": {
      "application/vnd.jupyter.widget-view+json": {
       "model_id": "93baa4073edd473ea7dc8b40f3996e7d",
       "version_major": 2,
       "version_minor": 0
      },
      "text/plain": [
       "VBox()"
      ]
     },
     "metadata": {},
     "output_type": "display_data"
    },
    {
     "data": {
      "application/vnd.jupyter.widget-view+json": {
       "model_id": "",
       "version_major": 2,
       "version_minor": 0
      },
      "text/plain": [
       "FloatProgress(value=0.0, bar_style='info', description='Progress:', layout=Layout(height='25px', width='50%'),…"
      ]
     },
     "metadata": {},
     "output_type": "display_data"
    }
   ],
   "source": [
    "import io\n",
    "import random\n",
    "random.seed(42)\n",
    "\n",
    "def load_image_list(bucket_name, prefix, list_name):\n",
    "    s3 = boto3.resource('s3')\n",
    "    bucket = s3.Bucket(bucket_name)\n",
    "    path = os.path.join(prefix, \"ImageSets\", \"Main\", f\"{list_name}.txt\")\n",
    "    response = bucket.Object(path)\n",
    "    data = response.get()['Body'].read()\n",
    "    return data.decode('utf8').split('\\n')\n",
    "\n",
    "train_list = load_image_list('david-voc-data', 'v1', 'train')\n",
    "val_list = load_image_list('david-voc-data', 'v1', 'val')\n",
    "random.shuffle(val_list)\n",
    "val_list = val_list[:1000]"
   ]
  },
  {
   "cell_type": "code",
   "execution_count": 16,
   "metadata": {},
   "outputs": [
    {
     "data": {
      "application/vnd.jupyter.widget-view+json": {
       "model_id": "e4a3b980f64c46ed9ff39e785cef10c6",
       "version_major": 2,
       "version_minor": 0
      },
      "text/plain": [
       "VBox()"
      ]
     },
     "metadata": {},
     "output_type": "display_data"
    },
    {
     "data": {
      "application/vnd.jupyter.widget-view+json": {
       "model_id": "",
       "version_major": 2,
       "version_minor": 0
      },
      "text/plain": [
       "FloatProgress(value=0.0, bar_style='info', description='Progress:', layout=Layout(height='25px', width='50%'),…"
      ]
     },
     "metadata": {},
     "output_type": "display_data"
    },
    {
     "name": "stdout",
     "output_type": "stream",
     "text": [
      "5148 files in training dataset\n",
      "1000 files in val dataset"
     ]
    }
   ],
   "source": [
    "train_files = [k for k in keys if os.path.basename(k).split('.')[0] in train_list]\n",
    "val_files = [k for k in keys if os.path.basename(k).split('.')[0] in val_list]\n",
    "print(f\"{len(train_files)} files in training dataset\")\n",
    "print(f\"{len(val_files)} files in val dataset\")"
   ]
  },
  {
   "cell_type": "code",
   "execution_count": 6,
   "metadata": {},
   "outputs": [
    {
     "data": {
      "application/vnd.jupyter.widget-view+json": {
       "model_id": "9f127b2fc0ba4755b365985374487876",
       "version_major": 2,
       "version_minor": 0
      },
      "text/plain": [
       "VBox()"
      ]
     },
     "metadata": {},
     "output_type": "display_data"
    },
    {
     "data": {
      "application/vnd.jupyter.widget-view+json": {
       "model_id": "",
       "version_major": 2,
       "version_minor": 0
      },
      "text/plain": [
       "FloatProgress(value=0.0, bar_style='info', description='Progress:', layout=Layout(height='25px', width='50%'),…"
      ]
     },
     "metadata": {},
     "output_type": "display_data"
    }
   ],
   "source": [
    "import os\n",
    "import io\n",
    "from PIL import Image\n",
    "import numpy as np\n",
    "\n",
    "\n",
    "def readFileFromS3(row):\n",
    "    import boto\n",
    "    import os\n",
    "\n",
    "    s3 = boto3.client('s3')\n",
    "    bucket = 'david-voc-data'\n",
    "    key = row.image_key  \n",
    "    filename = os.path.basename(str(key))\n",
    "    basename = filename.split('.')[0]\n",
    "    response = s3.get_object(Bucket=bucket, Key=key)\n",
    "    body = response[\"Body\"]\n",
    "    contents = bytearray(body.read())\n",
    "    body.close()\n",
    "    \n",
    "    annotation_key = key.replace(\"JPEGImages\", \"Annotations\").replace('.jpg', '.xml')\n",
    "    response = s3.get_object(Bucket=bucket, Key=annotation_key)\n",
    "    data = response['Body'].read()\n",
    "    annotations = data.decode('utf8')\n",
    "\n",
    "    if len(contents):\n",
    "        return (contents, annotations)\n"
   ]
  },
  {
   "cell_type": "code",
   "execution_count": 7,
   "metadata": {},
   "outputs": [
    {
     "data": {
      "application/vnd.jupyter.widget-view+json": {
       "model_id": "8c00da9bdb5943d3993c1f7cff455773",
       "version_major": 2,
       "version_minor": 0
      },
      "text/plain": [
       "VBox()"
      ]
     },
     "metadata": {},
     "output_type": "display_data"
    },
    {
     "data": {
      "application/vnd.jupyter.widget-view+json": {
       "model_id": "",
       "version_major": 2,
       "version_minor": 0
      },
      "text/plain": [
       "FloatProgress(value=0.0, bar_style='info', description='Progress:', layout=Layout(height='25px', width='50%'),…"
      ]
     },
     "metadata": {},
     "output_type": "display_data"
    }
   ],
   "source": [
    "from pyspark.sql.types import StructType, StructField, IntegerType, BinaryType, StringType\n",
    "from pyspark.sql import Row\n",
    "\n",
    "def write_to_delta(files, bucket, table, append=False):\n",
    "    rdd1 = sc.parallelize(files)\n",
    "    row_rdd = rdd1.map(lambda x: Row(x))\n",
    "    rows_df = sqlContext.createDataFrame(row_rdd,['image_key'])\n",
    "    images_rdd = (\n",
    "      rows_df\n",
    "      .rdd\n",
    "      .map(readFileFromS3)\n",
    "    )\n",
    "\n",
    "    schema = StructType([StructField(\"image\", BinaryType(), False),\n",
    "                         StructField(\"annotations\", StringType(), False)]\n",
    "                        )\n",
    "\n",
    "    image_df = (\n",
    "      images_rdd\n",
    "      .toDF(schema)\n",
    "    )\n",
    "    \n",
    "    if append:\n",
    "        mode = \"append\"\n",
    "    else:\n",
    "        mode = \"overwrite\"\n",
    "    \n",
    "    (\n",
    "      image_df\n",
    "      .write\n",
    "      .format(\"delta\")\n",
    "      .mode(mode)\n",
    "      .option(\"compression\", \"gzip\")\n",
    "      .save(f\"s3://{bucket}/{table}\")\n",
    "    )\n"
   ]
  },
  {
   "cell_type": "code",
   "execution_count": 26,
   "metadata": {},
   "outputs": [
    {
     "data": {
      "application/vnd.jupyter.widget-view+json": {
       "model_id": "8d5b57d72fae4e7d914e43a3c5c86263",
       "version_major": 2,
       "version_minor": 0
      },
      "text/plain": [
       "VBox()"
      ]
     },
     "metadata": {},
     "output_type": "display_data"
    },
    {
     "data": {
      "application/vnd.jupyter.widget-view+json": {
       "model_id": "",
       "version_major": 2,
       "version_minor": 0
      },
      "text/plain": [
       "FloatProgress(value=0.0, bar_style='info', description='Progress:', layout=Layout(height='25px', width='50%'),…"
      ]
     },
     "metadata": {},
     "output_type": "display_data"
    }
   ],
   "source": [
    "write_to_delta(val_files, 'david-voc-delta', 'val')"
   ]
  },
  {
   "cell_type": "code",
   "execution_count": null,
   "metadata": {},
   "outputs": [],
   "source": [
    "write_to_delta(train_files, 'david-voc-delta', 'train')"
   ]
  },
  {
   "cell_type": "markdown",
   "metadata": {},
   "source": [
    "# Updating our Training Data\n",
    "\n",
    "From our modeling experiments, we could see that the models performance detecting dogs was poor.  Here we collected an additional ~500 images and we can append them to the Delta Table with a slight code update."
   ]
  },
  {
   "cell_type": "code",
   "execution_count": 17,
   "metadata": {},
   "outputs": [
    {
     "data": {
      "application/vnd.jupyter.widget-view+json": {
       "model_id": "be426502b4e743159f27242b488957ee",
       "version_major": 2,
       "version_minor": 0
      },
      "text/plain": [
       "VBox()"
      ]
     },
     "metadata": {},
     "output_type": "display_data"
    },
    {
     "data": {
      "application/vnd.jupyter.widget-view+json": {
       "model_id": "",
       "version_major": 2,
       "version_minor": 0
      },
      "text/plain": [
       "FloatProgress(value=0.0, bar_style='info', description='Progress:', layout=Layout(height='25px', width='50%'),…"
      ]
     },
     "metadata": {},
     "output_type": "display_data"
    },
    {
     "name": "stdout",
     "output_type": "stream",
     "text": [
      "569 files in the new training dataset"
     ]
    }
   ],
   "source": [
    "updated_keys = load_voc_image_names('david-voc-data', 'v2')\n",
    "train_list2 = load_image_list('david-voc-data', 'v2', 'train')\n",
    "train_files2 = [k for k in updated_keys if os.path.basename(k).split('.')[0] in train_list2]\n",
    "print(f\"{len(train_files2)} files in the new training dataset\")"
   ]
  },
  {
   "cell_type": "code",
   "execution_count": null,
   "metadata": {},
   "outputs": [],
   "source": [
    "write_to_delta(train_files2, 'david-voc-delta', 'train', append=True)"
   ]
  },
  {
   "cell_type": "code",
   "execution_count": null,
   "metadata": {},
   "outputs": [],
   "source": []
  }
 ],
 "metadata": {
  "kernelspec": {
   "display_name": "PySpark",
   "language": "",
   "name": "pysparkkernel"
  },
  "language_info": {
   "codemirror_mode": {
    "name": "python",
    "version": 3
   },
   "mimetype": "text/x-python",
   "name": "pyspark",
   "pygments_lexer": "python3"
  }
 },
 "nbformat": 4,
 "nbformat_minor": 4
}
