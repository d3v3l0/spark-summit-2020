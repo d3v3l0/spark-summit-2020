{
 "cells": [
  {
   "cell_type": "markdown",
   "metadata": {},
   "source": [
    "<img src=\"resources/ETL.png\" align='center' width=400 />\n",
    "\n",
    "# Land image data into Delta Table with Spark"
   ]
  },
  {
   "cell_type": "code",
   "execution_count": 2,
   "metadata": {},
   "outputs": [
    {
     "data": {
      "application/vnd.jupyter.widget-view+json": {
       "model_id": "0a7c06367b4b4997b83fffd2e20b5798",
       "version_major": 2,
       "version_minor": 0
      },
      "text/plain": [
       "VBox()"
      ]
     },
     "metadata": {},
     "output_type": "display_data"
    },
    {
     "data": {
      "application/vnd.jupyter.widget-view+json": {
       "model_id": "",
       "version_major": 2,
       "version_minor": 0
      },
      "text/plain": [
       "FloatProgress(value=0.0, bar_style='info', description='Progress:', layout=Layout(height='25px', width='50%'),…"
      ]
     },
     "metadata": {},
     "output_type": "display_data"
    }
   ],
   "source": [
    "import pyspark\n",
    "spark = pyspark.sql.SparkSession.builder.appName(\"MyApp\") \\\n",
    "    .config(\"spark.jars.packages\", \"io.delta:delta-core_2.11:0.6.0\") \\\n",
    "    .getOrCreate()\n",
    "sc = spark.sparkContext\n",
    "sc.addPyFile(\"/usr/lib/spark/jars/delta-core_2.11-0.6.0.jar\")\n",
    "from delta.tables import *\n"
   ]
  },
  {
   "cell_type": "code",
   "execution_count": 3,
   "metadata": {},
   "outputs": [
    {
     "data": {
      "application/vnd.jupyter.widget-view+json": {
       "model_id": "a679984696804d8eb3d57e2cf60b2253",
       "version_major": 2,
       "version_minor": 0
      },
      "text/plain": [
       "VBox()"
      ]
     },
     "metadata": {},
     "output_type": "display_data"
    },
    {
     "data": {
      "application/vnd.jupyter.widget-view+json": {
       "model_id": "",
       "version_major": 2,
       "version_minor": 0
      },
      "text/plain": [
       "FloatProgress(value=0.0, bar_style='info', description='Progress:', layout=Layout(height='25px', width='50%'),…"
      ]
     },
     "metadata": {},
     "output_type": "display_data"
    }
   ],
   "source": [
    "import boto3\n",
    "import os\n",
    "\n",
    "def load_voc_image_names(bucket_name, prefix):\n",
    "    s3 = boto3.resource('s3')\n",
    "    bucket = s3.Bucket(bucket_name)\n",
    "    files = []\n",
    "    for obj in bucket.objects.filter(Prefix=os.path.join(prefix, \"JPEGImages\")):\n",
    "        if obj.key.endswith('.jpg'):\n",
    "            files.append(obj.key)\n",
    "    return(files)\n",
    "    \n",
    "\n",
    "keys = load_voc_image_names('david-voc-data', 'v1')\n"
   ]
  },
  {
   "cell_type": "code",
   "execution_count": 4,
   "metadata": {},
   "outputs": [
    {
     "data": {
      "application/vnd.jupyter.widget-view+json": {
       "model_id": "a5bbdc978e2e4a338d2b584a4cd9def6",
       "version_major": 2,
       "version_minor": 0
      },
      "text/plain": [
       "VBox()"
      ]
     },
     "metadata": {},
     "output_type": "display_data"
    },
    {
     "data": {
      "application/vnd.jupyter.widget-view+json": {
       "model_id": "",
       "version_major": 2,
       "version_minor": 0
      },
      "text/plain": [
       "FloatProgress(value=0.0, bar_style='info', description='Progress:', layout=Layout(height='25px', width='50%'),…"
      ]
     },
     "metadata": {},
     "output_type": "display_data"
    }
   ],
   "source": [
    "import io\n",
    "import random\n",
    "random.seed(42)\n",
    "\n",
    "def load_image_list(bucket_name, prefix, list_name):\n",
    "    s3 = boto3.resource('s3')\n",
    "    bucket = s3.Bucket(bucket_name)\n",
    "    path = os.path.join(prefix, \"ImageSets\", \"Main\", f\"{list_name}.txt\")\n",
    "    response = bucket.Object(path)\n",
    "    data = response.get()['Body'].read()\n",
    "    return data.decode('utf8').split('\\n')\n",
    "\n",
    "train_list = load_image_list('david-voc-data', 'v1', 'train')\n",
    "val_list = load_image_list('david-voc-data', 'v1', 'val')\n",
    "random.shuffle(val_list)\n",
    "val_list = val_list[:1000]"
   ]
  },
  {
   "cell_type": "code",
   "execution_count": 5,
   "metadata": {},
   "outputs": [
    {
     "data": {
      "application/vnd.jupyter.widget-view+json": {
       "model_id": "1e671f55150d42f2b12f34890fc83766",
       "version_major": 2,
       "version_minor": 0
      },
      "text/plain": [
       "VBox()"
      ]
     },
     "metadata": {},
     "output_type": "display_data"
    },
    {
     "data": {
      "application/vnd.jupyter.widget-view+json": {
       "model_id": "",
       "version_major": 2,
       "version_minor": 0
      },
      "text/plain": [
       "FloatProgress(value=0.0, bar_style='info', description='Progress:', layout=Layout(height='25px', width='50%'),…"
      ]
     },
     "metadata": {},
     "output_type": "display_data"
    },
    {
     "name": "stdout",
     "output_type": "stream",
     "text": [
      "5148 files in training dataset\n",
      "1000 files in val dataset"
     ]
    }
   ],
   "source": [
    "train_files = [k for k in keys if os.path.basename(k).split('.')[0] in train_list]\n",
    "val_files = [k for k in keys if os.path.basename(k).split('.')[0] in val_list]\n",
    "print(f\"{len(train_files)} files in training dataset\")\n",
    "print(f\"{len(val_files)} files in val dataset\")"
   ]
  },
  {
   "cell_type": "code",
   "execution_count": 11,
   "metadata": {},
   "outputs": [
    {
     "data": {
      "application/vnd.jupyter.widget-view+json": {
       "model_id": "13619c520b6643f48543bcda4148670a",
       "version_major": 2,
       "version_minor": 0
      },
      "text/plain": [
       "VBox()"
      ]
     },
     "metadata": {},
     "output_type": "display_data"
    },
    {
     "data": {
      "application/vnd.jupyter.widget-view+json": {
       "model_id": "",
       "version_major": 2,
       "version_minor": 0
      },
      "text/plain": [
       "FloatProgress(value=0.0, bar_style='info', description='Progress:', layout=Layout(height='25px', width='50%'),…"
      ]
     },
     "metadata": {},
     "output_type": "display_data"
    }
   ],
   "source": [
    "def download_from_s3(row):\n",
    "    s3 = boto3.client('s3')\n",
    "    bucket = 'david-voc-data'\n",
    "    key = row.image_key  \n",
    "    filename = os.path.basename(str(key))\n",
    "    basename = filename.split('.')[0]\n",
    "    response = s3.get_object(Bucket=bucket, Key=key)\n",
    "    body = response[\"Body\"]\n",
    "    contents = bytearray(body.read())\n",
    "    body.close()\n",
    "    \n",
    "    annotation_key = key.replace(\"JPEGImages\", \"Annotations\").replace('.jpg', '.xml')\n",
    "    response = s3.get_object(Bucket=bucket, Key=annotation_key)\n",
    "    data = response['Body'].read()\n",
    "    annotations = data.decode('utf8')\n",
    "\n",
    "    if len(contents):\n",
    "        return (key, contents, annotations)"
   ]
  },
  {
   "cell_type": "code",
   "execution_count": 12,
   "metadata": {},
   "outputs": [
    {
     "data": {
      "application/vnd.jupyter.widget-view+json": {
       "model_id": "df4a6f14b3454714b33bc736d451193b",
       "version_major": 2,
       "version_minor": 0
      },
      "text/plain": [
       "VBox()"
      ]
     },
     "metadata": {},
     "output_type": "display_data"
    },
    {
     "data": {
      "application/vnd.jupyter.widget-view+json": {
       "model_id": "",
       "version_major": 2,
       "version_minor": 0
      },
      "text/plain": [
       "FloatProgress(value=0.0, bar_style='info', description='Progress:', layout=Layout(height='25px', width='50%'),…"
      ]
     },
     "metadata": {},
     "output_type": "display_data"
    }
   ],
   "source": [
    "from pyspark.sql.types import StructType, StructField, IntegerType, BinaryType, StringType\n",
    "from pyspark.sql import Row\n",
    "\n",
    "def write_to_delta(files, bucket, table, append=False):\n",
    "    rdd1 = sc.parallelize(files)\n",
    "    row_rdd = rdd1.map(lambda x: Row(x))\n",
    "    rows_df = sqlContext.createDataFrame(row_rdd,['image_key'])\n",
    "    images_rdd = (\n",
    "      rows_df\n",
    "      .rdd\n",
    "      .map(download_from_s3)\n",
    "    )\n",
    "\n",
    "    schema = StructType([StructField(\"key\", StringType(), False),\n",
    "                         StructField(\"image\", BinaryType(), False),\n",
    "                         StructField(\"annotations\", StringType(), False)]\n",
    "                        )\n",
    "\n",
    "    image_df = (\n",
    "      images_rdd\n",
    "      .toDF(schema)\n",
    "    )\n",
    "    \n",
    "    if append:\n",
    "        mode = \"append\"\n",
    "    else:\n",
    "        mode = \"overwrite\"\n",
    "    \n",
    "    (\n",
    "      image_df\n",
    "      .write\n",
    "      .format(\"delta\")\n",
    "      .mode(mode)\n",
    "      .option(\"compression\", \"gzip\")\n",
    "      .save(f\"s3://{bucket}/{table}\")\n",
    "    )\n"
   ]
  },
  {
   "cell_type": "code",
   "execution_count": null,
   "metadata": {},
   "outputs": [
    {
     "data": {
      "application/vnd.jupyter.widget-view+json": {
       "model_id": "37f8daa7674c4520acff49c94e6aa0af",
       "version_major": 2,
       "version_minor": 0
      },
      "text/plain": [
       "VBox()"
      ]
     },
     "metadata": {},
     "output_type": "display_data"
    },
    {
     "data": {
      "application/vnd.jupyter.widget-view+json": {
       "model_id": "",
       "version_major": 2,
       "version_minor": 0
      },
      "text/plain": [
       "FloatProgress(value=0.0, bar_style='info', description='Progress:', layout=Layout(height='25px', width='50%'),…"
      ]
     },
     "metadata": {},
     "output_type": "display_data"
    }
   ],
   "source": [
    "write_to_delta(train_files, 'david-voc-delta', 'train')"
   ]
  },
  {
   "cell_type": "code",
   "execution_count": 8,
   "metadata": {},
   "outputs": [
    {
     "data": {
      "application/vnd.jupyter.widget-view+json": {
       "model_id": "85d14923efa14611bd767c6dd89a4703",
       "version_major": 2,
       "version_minor": 0
      },
      "text/plain": [
       "VBox()"
      ]
     },
     "metadata": {},
     "output_type": "display_data"
    },
    {
     "data": {
      "application/vnd.jupyter.widget-view+json": {
       "model_id": "",
       "version_major": 2,
       "version_minor": 0
      },
      "text/plain": [
       "FloatProgress(value=0.0, bar_style='info', description='Progress:', layout=Layout(height='25px', width='50%'),…"
      ]
     },
     "metadata": {},
     "output_type": "display_data"
    }
   ],
   "source": [
    "write_to_delta(val_files, 'david-voc-delta', 'val')"
   ]
  },
  {
   "cell_type": "code",
   "execution_count": 2,
   "metadata": {},
   "outputs": [
    {
     "data": {
      "application/vnd.jupyter.widget-view+json": {
       "model_id": "62e6ed9ec8b548169a901ebcea61e4c1",
       "version_major": 2,
       "version_minor": 0
      },
      "text/plain": [
       "VBox()"
      ]
     },
     "metadata": {},
     "output_type": "display_data"
    },
    {
     "data": {
      "application/vnd.jupyter.widget-view+json": {
       "model_id": "",
       "version_major": 2,
       "version_minor": 0
      },
      "text/plain": [
       "FloatProgress(value=0.0, bar_style='info', description='Progress:', layout=Layout(height='25px', width='50%'),…"
      ]
     },
     "metadata": {},
     "output_type": "display_data"
    },
    {
     "name": "stdout",
     "output_type": "stream",
     "text": [
      "+--------------------+--------------------+--------------------+\n",
      "|                 key|               image|         annotations|\n",
      "+--------------------+--------------------+--------------------+\n",
      "|v1/JPEGImages/200...|[FF D8 FF E0 00 1...|<annotation>\n",
      "\t<fo...|\n",
      "|v1/JPEGImages/200...|[FF D8 FF E0 00 1...|<annotation>\n",
      "\t<fo...|\n",
      "|v1/JPEGImages/200...|[FF D8 FF E0 00 1...|<annotation>\n",
      "\t<fo...|\n",
      "|v1/JPEGImages/200...|[FF D8 FF E0 00 1...|<annotation>\n",
      "\t<fo...|\n",
      "|v1/JPEGImages/200...|[FF D8 FF E0 00 1...|<annotation>\n",
      "\t<fo...|\n",
      "|v1/JPEGImages/200...|[FF D8 FF E0 00 1...|<annotation>\n",
      "\t<fo...|\n",
      "|v1/JPEGImages/200...|[FF D8 FF E0 00 1...|<annotation>\n",
      "\t<fo...|\n",
      "|v1/JPEGImages/200...|[FF D8 FF E0 00 1...|<annotation>\n",
      "\t<fo...|\n",
      "|v1/JPEGImages/200...|[FF D8 FF E0 00 1...|<annotation>\n",
      "\t<fo...|\n",
      "|v1/JPEGImages/200...|[FF D8 FF E0 00 1...|<annotation>\n",
      "\t<fo...|\n",
      "+--------------------+--------------------+--------------------+\n",
      "only showing top 10 rows"
     ]
    }
   ],
   "source": [
    "train_df = spark.read.format(\"delta\").option(\"versionAsOf\", 0).load(\"s3://david-voc-delta/train/\")\n",
    "train_df.show(10)"
   ]
  },
  {
   "cell_type": "markdown",
   "metadata": {},
   "source": [
    "<img src=\"resources/update.png\" align='center' width=400 />\n",
    "\n",
    "## Update our Delta Table with new images"
   ]
  },
  {
   "cell_type": "code",
   "execution_count": 10,
   "metadata": {},
   "outputs": [
    {
     "data": {
      "application/vnd.jupyter.widget-view+json": {
       "model_id": "79b74a8c8a4a47adaa31df052945ef0c",
       "version_major": 2,
       "version_minor": 0
      },
      "text/plain": [
       "VBox()"
      ]
     },
     "metadata": {},
     "output_type": "display_data"
    },
    {
     "data": {
      "application/vnd.jupyter.widget-view+json": {
       "model_id": "",
       "version_major": 2,
       "version_minor": 0
      },
      "text/plain": [
       "FloatProgress(value=0.0, bar_style='info', description='Progress:', layout=Layout(height='25px', width='50%'),…"
      ]
     },
     "metadata": {},
     "output_type": "display_data"
    },
    {
     "name": "stdout",
     "output_type": "stream",
     "text": [
      "569 files in the new training dataset"
     ]
    }
   ],
   "source": [
    "updated_keys = load_voc_image_names('david-voc-data', 'v2')\n",
    "train_list2 = load_image_list('david-voc-data', 'v2', 'train')\n",
    "train_files2 = [k for k in updated_keys if os.path.basename(k).split('.')[0] in train_list2]\n",
    "print(f\"{len(train_files2)} files in the new training dataset\")"
   ]
  },
  {
   "cell_type": "code",
   "execution_count": 11,
   "metadata": {},
   "outputs": [
    {
     "data": {
      "application/vnd.jupyter.widget-view+json": {
       "model_id": "a4ec52f24da44318880970757cef6921",
       "version_major": 2,
       "version_minor": 0
      },
      "text/plain": [
       "VBox()"
      ]
     },
     "metadata": {},
     "output_type": "display_data"
    },
    {
     "data": {
      "application/vnd.jupyter.widget-view+json": {
       "model_id": "",
       "version_major": 2,
       "version_minor": 0
      },
      "text/plain": [
       "FloatProgress(value=0.0, bar_style='info', description='Progress:', layout=Layout(height='25px', width='50%'),…"
      ]
     },
     "metadata": {},
     "output_type": "display_data"
    }
   ],
   "source": [
    "write_to_delta(train_files2, 'david-voc-delta', 'train', append=True)"
   ]
  },
  {
   "cell_type": "code",
   "execution_count": null,
   "metadata": {},
   "outputs": [],
   "source": []
  }
 ],
 "metadata": {
  "kernelspec": {
   "display_name": "PySpark",
   "language": "",
   "name": "pysparkkernel"
  },
  "language_info": {
   "codemirror_mode": {
    "name": "python",
    "version": 3
   },
   "mimetype": "text/x-python",
   "name": "pyspark",
   "pygments_lexer": "python3"
  }
 },
 "nbformat": 4,
 "nbformat_minor": 4
}
