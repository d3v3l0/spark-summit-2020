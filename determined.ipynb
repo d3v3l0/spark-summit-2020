{
 "cells": [
  {
   "cell_type": "markdown",
   "metadata": {},
   "source": [
    "# Training an Object Detection Model with Determined\n",
    "\n",
    "We're going to use Determined to build an object detection model, trained on the VOC2012 Dataset\n",
    "<img src=\"http://host.robots.ox.ac.uk/pascal/VOC/voc2012/examples/images/sheep_06.jpg\" align='center' width=400 />\n",
    "\n",
    "The data was landed into a Delta Table with Spark\n",
    "\n",
    "<img src=\"spark/resources/ETL.png\" width=300 />\n",
    "\n"
   ]
  },
  {
   "cell_type": "code",
   "execution_count": 2,
   "metadata": {
    "collapsed": true,
    "jupyter": {
     "outputs_hidden": true,
     "source_hidden": true
    }
   },
   "outputs": [
    {
     "name": "stdout",
     "output_type": "stream",
     "text": [
      "Collecting pyarrow\n",
      "  Downloading pyarrow-0.17.1-cp36-cp36m-manylinux2014_x86_64.whl (63.8 MB)\n",
      "\u001b[K     |████████████████████████████████| 63.8 MB 37.1 MB/s eta 0:00:01\n",
      "\u001b[?25hRequirement already satisfied: numpy>=1.14 in /opt/conda/lib/python3.6/site-packages (from pyarrow) (1.18.4)\n",
      "Installing collected packages: pyarrow\n",
      "Successfully installed pyarrow-0.17.1\n"
     ]
    }
   ],
   "source": [
    "!pip install pyarrow"
   ]
  },
  {
   "cell_type": "markdown",
   "metadata": {},
   "source": [
    "## Without Determined"
   ]
  },
  {
   "cell_type": "code",
   "execution_count": 2,
   "metadata": {},
   "outputs": [],
   "source": [
    "from models import ObjectDetectionModel\n",
    "model = ObjectDetectionModel({'lr': 0.0025, 'm': 0.9})\n"
   ]
  },
  {
   "cell_type": "code",
   "execution_count": 3,
   "metadata": {},
   "outputs": [
    {
     "name": "stdout",
     "output_type": "stream",
     "text": [
      "Training epoch 1 of 10\n"
     ]
    },
    {
     "data": {
      "application/vnd.jupyter.widget-view+json": {
       "model_id": "5b5bf648c90a4399b337f615ec09443d",
       "version_major": 2,
       "version_minor": 0
      },
      "text/plain": [
       "HBox(children=(FloatProgress(value=0.0, description='Training Epoch 1', max=1287.0, style=ProgressStyle(descri…"
      ]
     },
     "metadata": {},
     "output_type": "display_data"
    },
    {
     "name": "stdout",
     "output_type": "stream",
     "text": [
      "\n"
     ]
    },
    {
     "data": {
      "application/vnd.jupyter.widget-view+json": {
       "model_id": "a9e7a83ff43e4250b6f4d6f88c810ce4",
       "version_major": 2,
       "version_minor": 0
      },
      "text/plain": [
       "HBox(children=(FloatProgress(value=0.0, description='Evaluating at Epoch 1', max=250.0, style=ProgressStyle(de…"
      ]
     },
     "metadata": {},
     "output_type": "display_data"
    },
    {
     "name": "stdout",
     "output_type": "stream",
     "text": [
      "\n",
      "mAP: 0.029319417357717432\n",
      "Training epoch 2 of 10\n"
     ]
    },
    {
     "data": {
      "application/vnd.jupyter.widget-view+json": {
       "model_id": "6f34516d7ce74a969352339232be04f9",
       "version_major": 2,
       "version_minor": 0
      },
      "text/plain": [
       "HBox(children=(FloatProgress(value=0.0, description='Training Epoch 2', max=1287.0, style=ProgressStyle(descri…"
      ]
     },
     "metadata": {},
     "output_type": "display_data"
    },
    {
     "name": "stdout",
     "output_type": "stream",
     "text": [
      "\n"
     ]
    }
   ],
   "source": [
    "NUM_EPOCHS = 10\n",
    "try:\n",
    "    for epoch in range(NUM_EPOCHS):\n",
    "        print(f\"Training epoch {epoch + 1} of {NUM_EPOCHS}\")\n",
    "        model.train_one_epoch()\n",
    "        model.eval()\n",
    "except KeyboardInterrupt:\n",
    "    pass"
   ]
  },
  {
   "cell_type": "markdown",
   "metadata": {},
   "source": [
    "## Hyperparameter Search with Determined"
   ]
  },
  {
   "cell_type": "code",
   "execution_count": 6,
   "metadata": {},
   "outputs": [
    {
     "name": "stdout",
     "output_type": "stream",
     "text": [
      "batches_per_step: 20\n",
      "data:\n",
      "  bucket: david-voc-delta\n",
      "  train:\n",
      "    table: train\n",
      "    version: 0\n",
      "  val:\n",
      "    table: val\n",
      "    version: 0\n",
      "description: training\n",
      "entrypoint: model_def:ObjectDetectionModel\n",
      "hyperparameters:\n",
      "  global_batch_size: 4\n",
      "  learning_rate:\n",
      "    base: 10\n",
      "    maxval: -2\n",
      "    minval: -4\n",
      "    type: log\n",
      "  momentum:\n",
      "    maxval: 0.95\n",
      "    minval: 0.7\n",
      "    type: double\n",
      "  weight_decay: 0.0005\n",
      "  load_from_experiment: -1\n",
      "min_validation_period: 10\n",
      "resources:\n",
      "  slots_per_trial: 1\n",
      "searcher:\n",
      "  max_steps: 1000\n",
      "  max_trials: 32\n",
      "  metric: 'mAP'\n",
      "  name: adaptive_simple\n",
      "  smaller_is_better: false\n"
     ]
    }
   ],
   "source": [
    "!cat search.yaml"
   ]
  },
  {
   "cell_type": "code",
   "execution_count": null,
   "metadata": {},
   "outputs": [],
   "source": [
    "!det e create search.yaml ."
   ]
  },
  {
   "cell_type": "markdown",
   "metadata": {},
   "source": [
    "To train our model, we'll do a hyperparameter search with Determined."
   ]
  },
  {
   "cell_type": "markdown",
   "metadata": {},
   "source": [
    "# How can we improve?\n",
    "\n",
    "With a little investigating, we can see that there is a class imbalance, we don't have enough examples of 'dogs'"
   ]
  },
  {
   "cell_type": "markdown",
   "metadata": {},
   "source": [
    "<img src=\"dataset_v1.png\" width=800 />"
   ]
  },
  {
   "cell_type": "markdown",
   "metadata": {},
   "source": [
    "Once we manage to collect and label more images, then add them to a new version of the Delta table:"
   ]
  },
  {
   "cell_type": "markdown",
   "metadata": {},
   "source": [
    "<img src=\"dataset_v2.png\" width=800 />"
   ]
  },
  {
   "cell_type": "markdown",
   "metadata": {},
   "source": [
    "### Quickly Training with New Data\n",
    "With a new dataset, lets make a new experiment in Determined.  This time we'll fine tune the best model produced by our last experiment, using 16-GPU distributed training to accelerate the process."
   ]
  },
  {
   "cell_type": "code",
   "execution_count": 7,
   "metadata": {},
   "outputs": [
    {
     "name": "stdout",
     "output_type": "stream",
     "text": [
      "batches_per_step: 20\n",
      "data:\n",
      "  bucket: david-voc-delta\n",
      "  train:\n",
      "    table: train\n",
      "    version: 1\n",
      "  val:\n",
      "    table: val\n",
      "    version: 0\n",
      "description: distributed\n",
      "entrypoint: model_def:ObjectDetectionModel\n",
      "hyperparameters:\n",
      "  global_batch_size: 64\n",
      "  learning_rate: 0.001\n",
      "  momentum: 0.9\n",
      "  weight_decay: 0.0001\n",
      "  load_from_experiment: 1\n",
      "min_validation_period: 20\n",
      "resources:\n",
      "  slots_per_trial: 16\n",
      "searcher:\n",
      "  max_steps: 60\n",
      "  metric: 'mAP'\n",
      "  name: single\n",
      "  smaller_is_better: false\n"
     ]
    }
   ],
   "source": [
    "!cat distributed.yaml"
   ]
  },
  {
   "cell_type": "code",
   "execution_count": null,
   "metadata": {},
   "outputs": [],
   "source": [
    "!det e create distributed.yaml ."
   ]
  },
  {
   "cell_type": "code",
   "execution_count": 21,
   "metadata": {},
   "outputs": [
    {
     "data": {
      "image/png": "[encoded data removed]",
      "text/plain": [
       "<Figure size 936x432 with 1 Axes>"
      ]
     },
     "metadata": {
      "needs_background": "light"
     },
     "output_type": "display_data"
    }
   ],
   "source": [
    "from utils import show_dog_comparison\n",
    "\n",
    "show_dog_comparison()"
   ]
  },
  {
   "cell_type": "markdown",
   "metadata": {},
   "source": [
    "## Inference \n",
    "Inference (and how to launch it) is highly dependant on how you use Spark.  To see example inference code, check out [this reference PySpark notebook](spark/batch_inference.ipynb)"
   ]
  }
 ],
 "metadata": {
  "kernelspec": {
   "display_name": "Python 3",
   "language": "python",
   "name": "python3"
  },
  "language_info": {
   "codemirror_mode": {
    "name": "ipython",
    "version": 3
   },
   "file_extension": ".py",
   "mimetype": "text/x-python",
   "name": "python",
   "nbconvert_exporter": "python",
   "pygments_lexer": "ipython3",
   "version": "3.7.7"
  }
 },
 "nbformat": 4,
 "nbformat_minor": 4
}
